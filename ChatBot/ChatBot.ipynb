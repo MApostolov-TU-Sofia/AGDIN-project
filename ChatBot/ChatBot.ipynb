{
 "cells": [
  {
   "cell_type": "code",
   "execution_count": 1,
   "id": "826de531",
   "metadata": {},
   "outputs": [],
   "source": [
    "%run model/chat/LibModel.ipynb\n",
    "%run view/ChatView.ipynb\n",
    "%run model/chat/ChatModel.ipynb\n",
    "%run controller/MainController.ipynb"
   ]
  },
  {
   "cell_type": "code",
   "execution_count": 2,
   "id": "75e7572d",
   "metadata": {},
   "outputs": [
    {
     "data": {
      "application/vnd.jupyter.widget-view+json": {
       "model_id": "47b53487f30c46cf8d0d7172101e70e3",
       "version_major": 2,
       "version_minor": 0
      },
      "text/plain": [
       "Text(value='', placeholder='Type your message here...')"
      ]
     },
     "metadata": {},
     "output_type": "display_data"
    },
    {
     "data": {
      "application/vnd.jupyter.widget-view+json": {
       "model_id": "221463ed13d64a22b6b59b555f954013",
       "version_major": 2,
       "version_minor": 0
      },
      "text/plain": [
       "Button(description='Chat', style=ButtonStyle())"
      ]
     },
     "metadata": {},
     "output_type": "display_data"
    },
    {
     "data": {
      "application/vnd.jupyter.widget-view+json": {
       "model_id": "4b40d798d5db4f3ea7e42fd669633a66",
       "version_major": 2,
       "version_minor": 0
      },
      "text/plain": [
       "HTML(value='')"
      ]
     },
     "metadata": {},
     "output_type": "display_data"
    }
   ],
   "source": [
    "executor = Main()\n",
    "executor.run()"
   ]
  },
  {
   "cell_type": "code",
   "execution_count": null,
   "id": "a24cd228",
   "metadata": {},
   "outputs": [],
   "source": []
  }
 ],
 "metadata": {
  "kernelspec": {
   "display_name": "Python 3 (ipykernel)",
   "language": "python",
   "name": "python3"
  },
  "language_info": {
   "codemirror_mode": {
    "name": "ipython",
    "version": 3
   },
   "file_extension": ".py",
   "mimetype": "text/x-python",
   "name": "python",
   "nbconvert_exporter": "python",
   "pygments_lexer": "ipython3",
   "version": "3.11.4"
  }
 },
 "nbformat": 4,
 "nbformat_minor": 5
}
