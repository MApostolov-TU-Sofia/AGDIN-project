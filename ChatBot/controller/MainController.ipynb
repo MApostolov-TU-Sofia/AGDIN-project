{
 "cells": [
  {
   "cell_type": "code",
   "execution_count": 13,
   "id": "242a7093",
   "metadata": {},
   "outputs": [],
   "source": [
    "class Main:\n",
    "    @staticmethod\n",
    "    def run():\n",
    "        # build a ChatBot object\n",
    "        bot = ChatBot()\n",
    "\n",
    "        # start chatting\n",
    "        def chat(sender):\n",
    "            # receive user input\n",
    "            bot.user_input()\n",
    "            # output bot response\n",
    "            bot.bot_response()\n",
    "\n",
    "        chat_button.on_click(chat)\n",
    "\n",
    "        # Display widgets\n",
    "        display(input_widget)\n",
    "        display(chat_button)\n",
    "        display(output_widget)"
   ]
  },
  {
   "cell_type": "code",
   "execution_count": null,
   "id": "55abe0d8",
   "metadata": {},
   "outputs": [],
   "source": []
  }
 ],
 "metadata": {
  "kernelspec": {
   "display_name": "Python 3 (ipykernel)",
   "language": "python",
   "name": "python3"
  },
  "language_info": {
   "codemirror_mode": {
    "name": "ipython",
    "version": 3
   },
   "file_extension": ".py",
   "mimetype": "text/x-python",
   "name": "python",
   "nbconvert_exporter": "python",
   "pygments_lexer": "ipython3",
   "version": "3.11.4"
  }
 },
 "nbformat": 4,
 "nbformat_minor": 5
}
